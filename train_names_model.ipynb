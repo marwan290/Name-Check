{
 "cells": [
  {
   "cell_type": "code",
   "execution_count": 5,
   "id": "89a8c73d",
   "metadata": {},
   "outputs": [],
   "source": [
    "PATH = r'df_preprocces.csv'"
   ]
  },
  {
   "cell_type": "code",
   "execution_count": 6,
   "id": "ab9a0ba1",
   "metadata": {},
   "outputs": [],
   "source": [
    "#Load libraries \n",
    "\n",
    "import pandas as pd\n",
    "import numpy as np\n",
    "from sklearn.model_selection import train_test_split\n",
    "import pickle\n",
    "from keras_preprocessing.sequence import pad_sequences\n",
    "from tensorflow.keras.models import Sequential\n",
    "from tensorflow.keras import layers\n",
    "from tensorflow.keras.preprocessing.text import Tokenizer\n",
    "from tensorflow.keras.layers import LSTM\n",
    "from tensorflow.keras.callbacks import ModelCheckpoint\n",
    "import re\n",
    "from tensorflow.keras.callbacks import EarlyStopping\n",
    "\n",
    "\n",
    "\n"
   ]
  },
  {
   "cell_type": "code",
   "execution_count": 10,
   "id": "49548b30",
   "metadata": {},
   "outputs": [],
   "source": [
    "# normalize some char\n",
    "def normalize_arabic(text):\n",
    "    text = re.sub(\"[إأآا]\", \"ا\", text)\n",
    "    text = re.sub(\"ى\", \"ي\", text)\n",
    "    text = re.sub(\"ة\", \"ه\", text)\n",
    "    text = re.sub(\"گ\", \"ك\", text)\n",
    "    return text"
   ]
  },
  {
   "cell_type": "code",
   "execution_count": 11,
   "id": "9c28464d",
   "metadata": {},
   "outputs": [],
   "source": [
    "#Read dataframe\n",
    "df = pd.read_csv(PATH)"
   ]
  },
  {
   "cell_type": "code",
   "execution_count": 13,
   "id": "ed214595",
   "metadata": {},
   "outputs": [],
   "source": [
    "df['name'] = df['name'].apply(lambda x: normalize_arabic(x)) #apply normalize"
   ]
  },
  {
   "cell_type": "code",
   "execution_count": 14,
   "id": "ffe08b33",
   "metadata": {},
   "outputs": [
    {
     "data": {
      "text/plain": [
       "(31734, 3)"
      ]
     },
     "execution_count": 14,
     "metadata": {},
     "output_type": "execute_result"
    }
   ],
   "source": [
    "df.shape"
   ]
  },
  {
   "cell_type": "code",
   "execution_count": 15,
   "id": "4a03cdc7",
   "metadata": {},
   "outputs": [
    {
     "data": {
      "text/html": [
       "<div>\n",
       "<style scoped>\n",
       "    .dataframe tbody tr th:only-of-type {\n",
       "        vertical-align: middle;\n",
       "    }\n",
       "\n",
       "    .dataframe tbody tr th {\n",
       "        vertical-align: top;\n",
       "    }\n",
       "\n",
       "    .dataframe thead th {\n",
       "        text-align: right;\n",
       "    }\n",
       "</style>\n",
       "<table border=\"1\" class=\"dataframe\">\n",
       "  <thead>\n",
       "    <tr style=\"text-align: right;\">\n",
       "      <th></th>\n",
       "      <th>Unnamed: 0</th>\n",
       "      <th>name</th>\n",
       "      <th>status</th>\n",
       "    </tr>\n",
       "  </thead>\n",
       "  <tbody>\n",
       "    <tr>\n",
       "      <th>13089</th>\n",
       "      <td>9186</td>\n",
       "      <td>عدي مبارك زين</td>\n",
       "      <td>1.0</td>\n",
       "    </tr>\n",
       "    <tr>\n",
       "      <th>19501</th>\n",
       "      <td>29692</td>\n",
       "      <td>عشني نصر علاء ادين</td>\n",
       "      <td>0.0</td>\n",
       "    </tr>\n",
       "    <tr>\n",
       "      <th>21425</th>\n",
       "      <td>3377</td>\n",
       "      <td>سبيعه سعيد جمال</td>\n",
       "      <td>1.0</td>\n",
       "    </tr>\n",
       "    <tr>\n",
       "      <th>5001</th>\n",
       "      <td>28853</td>\n",
       "      <td>خزسنه ناهيه هاءي</td>\n",
       "      <td>0.0</td>\n",
       "    </tr>\n",
       "    <tr>\n",
       "      <th>21796</th>\n",
       "      <td>23235</td>\n",
       "      <td>نهاف ائاويد عبدالرحمن</td>\n",
       "      <td>0.0</td>\n",
       "    </tr>\n",
       "    <tr>\n",
       "      <th>26771</th>\n",
       "      <td>26459</td>\n",
       "      <td>خلف اشبم وهب</td>\n",
       "      <td>0.0</td>\n",
       "    </tr>\n",
       "    <tr>\n",
       "      <th>29226</th>\n",
       "      <td>20476</td>\n",
       "      <td>سفيان بمي عباده</td>\n",
       "      <td>0.0</td>\n",
       "    </tr>\n",
       "    <tr>\n",
       "      <th>17960</th>\n",
       "      <td>27148</td>\n",
       "      <td>ايهم مجاهد اخلقص</td>\n",
       "      <td>0.0</td>\n",
       "    </tr>\n",
       "    <tr>\n",
       "      <th>17078</th>\n",
       "      <td>27314</td>\n",
       "      <td>مقك ميساء وسيمظ</td>\n",
       "      <td>0.0</td>\n",
       "    </tr>\n",
       "    <tr>\n",
       "      <th>8479</th>\n",
       "      <td>18273</td>\n",
       "      <td>سفيهن عطا ناجده</td>\n",
       "      <td>0.0</td>\n",
       "    </tr>\n",
       "  </tbody>\n",
       "</table>\n",
       "</div>"
      ],
      "text/plain": [
       "       Unnamed: 0                   name  status\n",
       "13089        9186          عدي مبارك زين     1.0\n",
       "19501       29692     عشني نصر علاء ادين     0.0\n",
       "21425        3377        سبيعه سعيد جمال     1.0\n",
       "5001        28853       خزسنه ناهيه هاءي     0.0\n",
       "21796       23235  نهاف ائاويد عبدالرحمن     0.0\n",
       "26771       26459           خلف اشبم وهب     0.0\n",
       "29226       20476        سفيان بمي عباده     0.0\n",
       "17960       27148       ايهم مجاهد اخلقص     0.0\n",
       "17078       27314        مقك ميساء وسيمظ     0.0\n",
       "8479        18273        سفيهن عطا ناجده     0.0"
      ]
     },
     "execution_count": 15,
     "metadata": {},
     "output_type": "execute_result"
    }
   ],
   "source": [
    "df.sample(10)"
   ]
  },
  {
   "cell_type": "code",
   "execution_count": 16,
   "id": "23577f55",
   "metadata": {},
   "outputs": [],
   "source": [
    "X_train, X_test, y_train, y_test = train_test_split(\n",
    "    df['name'], df['status'], test_size=0.15, random_state=1000) #Split train and test"
   ]
  },
  {
   "cell_type": "code",
   "execution_count": 17,
   "id": "270f02fc",
   "metadata": {},
   "outputs": [
    {
     "name": "stdout",
     "output_type": "stream",
     "text": [
      "[683, 707, 522]\n",
      "عليان روكن جليل\n"
     ]
    }
   ],
   "source": [
    "#preprocces\n",
    "tokenizer = Tokenizer(oov_token=\"<OOV>\")\n",
    "tokenizer.fit_on_texts(df['name'].values)\n",
    "\n",
    "X_train_tok = tokenizer.texts_to_sequences(X_train)\n",
    "X_test_tok = tokenizer.texts_to_sequences(X_test)\n",
    "\n",
    "vocab_size = len(tokenizer.word_index) + 1  # Adding 1 because of reserved 0 index\n",
    "\n",
    "print(X_train_tok[2])\n",
    "print(X_train[2])"
   ]
  },
  {
   "cell_type": "code",
   "execution_count": 18,
   "id": "f24d095a",
   "metadata": {},
   "outputs": [
    {
     "data": {
      "text/plain": [
       "20636"
      ]
     },
     "execution_count": 18,
     "metadata": {},
     "output_type": "execute_result"
    }
   ],
   "source": [
    "maxlen = 3\n",
    "X_train = pad_sequences(X_train_tok, padding='post',maxlen=maxlen,truncating='post')\n",
    "X_test = pad_sequences(X_test_tok, padding='post', maxlen=maxlen,truncating='post')\n",
    "vocab_size"
   ]
  },
  {
   "cell_type": "code",
   "execution_count": 19,
   "id": "360e8962",
   "metadata": {},
   "outputs": [
    {
     "name": "stdout",
     "output_type": "stream",
     "text": [
      "Model: \"sequential\"\n",
      "_________________________________________________________________\n",
      " Layer (type)                Output Shape              Param #   \n",
      "=================================================================\n",
      " embedding (Embedding)       (None, 3, 32)             660352    \n",
      "                                                                 \n",
      " lstm (LSTM)                 (None, 128)               82432     \n",
      "                                                                 \n",
      " flatten (Flatten)           (None, 128)               0         \n",
      "                                                                 \n",
      " dense (Dense)               (None, 64)                8256      \n",
      "                                                                 \n",
      " dropout (Dropout)           (None, 64)                0         \n",
      "                                                                 \n",
      " dense_1 (Dense)             (None, 128)               8320      \n",
      "                                                                 \n",
      " dropout_1 (Dropout)         (None, 128)               0         \n",
      "                                                                 \n",
      " dense_2 (Dense)             (None, 1)                 129       \n",
      "                                                                 \n",
      "=================================================================\n",
      "Total params: 759,489\n",
      "Trainable params: 759,489\n",
      "Non-trainable params: 0\n",
      "_________________________________________________________________\n"
     ]
    }
   ],
   "source": [
    "embedding_dim = 32\n",
    "\n",
    "model = Sequential()\n",
    "model.add(layers.Embedding(input_dim=vocab_size, \n",
    "                           output_dim=embedding_dim, \n",
    "                           input_length=maxlen))\n",
    "model.add(LSTM(128, activation='relu'))\n",
    "model.add(layers.Flatten())\n",
    "model.add(layers.Dense(64, activation='relu'))\n",
    "model.add(layers.Dropout(.4))\n",
    "model.add(layers.Dense(128, activation='relu'))\n",
    "model.add(layers.Dropout(.5))\n",
    "\n",
    "\n",
    "model.add(layers.Dense(1, activation='sigmoid'))\n",
    "\n",
    "\n",
    "\n",
    "\n",
    "model_checkpoint_callback = ModelCheckpoint(\n",
    "    save_weights_only=False,\n",
    "    monitor='val_loss',\n",
    "    mode='max',\n",
    "    save_best_only=True,\n",
    "    filepath= 'name.h5')\n",
    "\n",
    "model.compile(optimizer='adam',\n",
    "              loss='binary_crossentropy',\n",
    "              metrics=['accuracy'])\n",
    "model.summary()"
   ]
  },
  {
   "cell_type": "code",
   "execution_count": null,
   "id": "45f3476d",
   "metadata": {},
   "outputs": [
    {
     "name": "stdout",
     "output_type": "stream",
     "text": [
      "Epoch 1/10\n",
      "843/843 [==============================] - 13s 11ms/step - loss: 0.3185 - accuracy: 0.8382 - val_loss: 0.0732 - val_accuracy: 0.9813\n",
      "Epoch 2/10\n",
      "843/843 [==============================] - 9s 10ms/step - loss: 0.0599 - accuracy: 0.9863 - val_loss: 0.0615 - val_accuracy: 0.9868\n",
      "Epoch 3/10\n",
      "843/843 [==============================] - 9s 11ms/step - loss: 0.0438 - accuracy: 0.9898 - val_loss: 0.1191 - val_accuracy: 0.9647\n",
      "Epoch 4/10\n",
      "843/843 [==============================] - 9s 10ms/step - loss: 0.0351 - accuracy: 0.9901 - val_loss: 0.1771 - val_accuracy: 0.9553\n",
      "Epoch 5/10\n",
      "843/843 [==============================] - 8s 10ms/step - loss: 0.0278 - accuracy: 0.9904 - val_loss: 0.3055 - val_accuracy: 0.9311\n",
      "Epoch 6/10\n",
      "843/843 [==============================] - 8s 9ms/step - loss: 0.0190 - accuracy: 0.9921 - val_loss: 0.4884 - val_accuracy: 0.9042\n",
      "Epoch 7/10\n",
      "843/843 [==============================] - 8s 9ms/step - loss: 0.0136 - accuracy: 0.9938 - val_loss: 0.8989 - val_accuracy: 0.8788\n",
      "Epoch 8/10\n",
      "843/843 [==============================] - 8s 10ms/step - loss: 0.0120 - accuracy: 0.9950 - val_loss: 0.5428 - val_accuracy: 0.9114\n",
      "Epoch 9/10\n",
      "810/843 [===========================>..] - ETA: 0s - loss: 0.0102 - accuracy: 0.9962"
     ]
    }
   ],
   "source": [
    "history = model.fit(X_train, y_train,\n",
    "                    epochs=10,\n",
    "                    validation_data=(X_test, y_test),\n",
    "                    batch_size=32,\n",
    "                    callbacks=[model_checkpoint_callback])\n",
    "loss, accuracy = model.evaluate(X_train, y_train, verbose=False)\n",
    "print(f\"Training Accuracy: {accuracy}\")\n",
    "loss, accuracy = model.evaluate(X_test, y_test, verbose=False)\n",
    "print(f\"Testing Accuracy:  {accuracy}\")\n"
   ]
  },
  {
   "cell_type": "code",
   "execution_count": null,
   "id": "ebd1509e",
   "metadata": {},
   "outputs": [],
   "source": [
    "# Saving the objects:\n",
    "with open('tokenizer.pkl', 'wb') as f:  # Python 3: open(..., 'wb')\n",
    "    pickle.dump(tokenizer, f)"
   ]
  },
  {
   "cell_type": "code",
   "execution_count": null,
   "id": "72953874",
   "metadata": {},
   "outputs": [],
   "source": []
  }
 ],
 "metadata": {
  "kernelspec": {
   "display_name": "Python 3 (ipykernel)",
   "language": "python",
   "name": "python3"
  },
  "language_info": {
   "codemirror_mode": {
    "name": "ipython",
    "version": 3
   },
   "file_extension": ".py",
   "mimetype": "text/x-python",
   "name": "python",
   "nbconvert_exporter": "python",
   "pygments_lexer": "ipython3",
   "version": "3.9.12"
  }
 },
 "nbformat": 4,
 "nbformat_minor": 5
}
