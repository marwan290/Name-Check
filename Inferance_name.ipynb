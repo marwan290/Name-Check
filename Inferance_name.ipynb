{
 "cells": [
  {
   "cell_type": "code",
   "execution_count": 15,
   "id": "8d2df522",
   "metadata": {},
   "outputs": [],
   "source": [
    "PATH = r'D:\\task\\df_preprocces.csv'\n",
    "TOKENIZER_PATH =  r'D:\\task\\tokenizer.pkl'\n",
    "MODEL_PATH =  r'D:\\task\\name.h5'"
   ]
  },
  {
   "cell_type": "code",
   "execution_count": 25,
   "id": "d2443885",
   "metadata": {},
   "outputs": [],
   "source": [
    "from keras.preprocessing.text import Tokenizer\n",
    "from keras_preprocessing.sequence import pad_sequences\n",
    "from tensorflow.keras.models import load_model\n",
    "\n",
    "import pickle\n",
    "import re"
   ]
  },
  {
   "cell_type": "code",
   "execution_count": 17,
   "id": "849933f5",
   "metadata": {},
   "outputs": [],
   "source": [
    "# Getting back the objects:\n",
    "with open(TOKENIZER_PATH,'rb') as f:  # Python 3: open(..., 'rb')\n",
    "    tokenizer = pickle.load(f)"
   ]
  },
  {
   "cell_type": "code",
   "execution_count": 26,
   "id": "2d3148b6",
   "metadata": {},
   "outputs": [],
   "source": [
    "model = load_model(MODEL_PATH)"
   ]
  },
  {
   "cell_type": "code",
   "execution_count": 19,
   "id": "930d9739",
   "metadata": {},
   "outputs": [],
   "source": [
    "def normalize_arabic(text):\n",
    "    text = re.sub(\"[إأآا]\", \"ا\", text)\n",
    "    text = re.sub(\"ى\", \"ي\", text)\n",
    "    text = re.sub(\"ة\", \"ه\", text)\n",
    "    text = re.sub(\"گ\", \"ك\", text)\n",
    "    return text"
   ]
  },
  {
   "cell_type": "code",
   "execution_count": 30,
   "id": "9acdbd21",
   "metadata": {},
   "outputs": [
    {
     "name": "stdout",
     "output_type": "stream",
     "text": [
      "1/1 [==============================] - 0s 35ms/step\n",
      "CPU times: total: 0 ns\n",
      "Wall time: 98.2 ms\n"
     ]
    },
    {
     "data": {
      "text/plain": [
       "0.9470949"
      ]
     },
     "execution_count": 30,
     "metadata": {},
     "output_type": "execute_result"
    }
   ],
   "source": [
    "%%time\n",
    "name = ['علي محمد السيد']\n",
    "x = tokenizer.texts_to_sequences(normalize_arabic(name[0]).split(\"-*-\"))\n",
    "x = pad_sequences(x, padding='post',maxlen=3,truncating='post')\n",
    "model.predict(x)[0][0]"
   ]
  },
  {
   "cell_type": "code",
   "execution_count": 21,
   "id": "1aa08fd1",
   "metadata": {},
   "outputs": [
    {
     "data": {
      "text/plain": [
       "array([[122, 500, 468]])"
      ]
     },
     "execution_count": 21,
     "metadata": {},
     "output_type": "execute_result"
    }
   ],
   "source": [
    "x"
   ]
  },
  {
   "cell_type": "code",
   "execution_count": 1,
   "id": "19da5a92",
   "metadata": {},
   "outputs": [],
   "source": [
    "test = 'ياسمين احمد عمر'"
   ]
  },
  {
   "cell_type": "code",
   "execution_count": 3,
   "id": "727e4c83",
   "metadata": {},
   "outputs": [
    {
     "data": {
      "text/plain": [
       "['ياسمين احمد عمر']"
      ]
     },
     "execution_count": 3,
     "metadata": {},
     "output_type": "execute_result"
    }
   ],
   "source": [
    "test.split(\"-*-\")"
   ]
  },
  {
   "cell_type": "code",
   "execution_count": 23,
   "id": "8e1c390b",
   "metadata": {},
   "outputs": [
    {
     "data": {
      "text/plain": [
       "'مروان خالد محمود'"
      ]
     },
     "execution_count": 23,
     "metadata": {},
     "output_type": "execute_result"
    }
   ],
   "source": [
    "test = \" مروان خالد محمود   \"\n",
    "str.strip(test)"
   ]
  },
  {
   "cell_type": "code",
   "execution_count": null,
   "id": "57c538b0",
   "metadata": {},
   "outputs": [],
   "source": []
  }
 ],
 "metadata": {
  "kernelspec": {
   "display_name": "Python 3 (ipykernel)",
   "language": "python",
   "name": "python3"
  },
  "language_info": {
   "codemirror_mode": {
    "name": "ipython",
    "version": 3
   },
   "file_extension": ".py",
   "mimetype": "text/x-python",
   "name": "python",
   "nbconvert_exporter": "python",
   "pygments_lexer": "ipython3",
   "version": "3.9.12"
  }
 },
 "nbformat": 4,
 "nbformat_minor": 5
}
